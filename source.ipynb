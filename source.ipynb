{
 "cells": [
  {
   "cell_type": "code",
   "execution_count": null,
   "metadata": {},
   "outputs": [],
   "source": [
    "import matplotlib.pyplot as plt\n",
    "import PIL as pil\n",
    "import numpy as np\n",
    "\n",
    "from PIL import Image"
   ]
  },
  {
   "cell_type": "code",
   "execution_count": null,
   "metadata": {},
   "outputs": [],
   "source": [
    "def init_image(img):\n",
    "    size = (np.array(img).shape[0], np.array(img).shape[1])\n",
    "    \n",
    "    return size"
   ]
  },
  {
   "cell_type": "code",
   "execution_count": null,
   "metadata": {},
   "outputs": [],
   "source": [
    "def convert_1d(img, size):\n",
    "    img_1d = np.ndarray((size[0] * size[1], np.array(img).shape[2]), 'uint8', np.array(img).astype('uint8'))\n",
    "    return img_1d"
   ]
  },
  {
   "cell_type": "code",
   "execution_count": null,
   "metadata": {},
   "outputs": [],
   "source": [
    "def random_centroids(k, img_1d, init_centroids):\n",
    "    centroids = []\n",
    "    _img_1d = np.unique(img_1d, axis = 0)\n",
    "    if (init_centroids == 'random'):\n",
    "        centroids = np.random.randint(0, 256, (k, img_1d.shape[1]), dtype='uint8')\n",
    "    elif (init_centroids == 'in_pixels'):\n",
    "        for _ in range(k):\n",
    "            centroids.append(_img_1d[np.random.randint(0, _img_1d.shape[0])])\n",
    "\n",
    "    return np.array(centroids)"
   ]
  },
  {
   "cell_type": "code",
   "execution_count": null,
   "metadata": {},
   "outputs": [],
   "source": [
    "def init_labels(img_1d, k, init_centroids):\n",
    "    _img_1d = img_1d.reshape(img_1d.shape[0], 1, img_1d.shape[1]).astype('int64')\n",
    "    centroids = random_centroids(k, img_1d, init_centroids).reshape(1, k, img_1d.shape[1]).astype('int64')\n",
    "    dist = np.sum((_img_1d - centroids) ** 2, axis = -1)\n",
    "    return np.array(np.argmin(dist, axis = -1))"
   ]
  },
  {
   "cell_type": "code",
   "execution_count": null,
   "metadata": {},
   "outputs": [],
   "source": [
    "def kmeans(img_1d, k_clusters, max_iter, init_centroids='random'):\n",
    "    \n",
    "    centroids = np.ndarray((k_clusters, img_1d.shape[1]), 'uint8', random_centroids(k_clusters, img_1d, init_centroids))\n",
    "    labels = init_labels(img_1d, k_clusters, init_centroids)\n",
    "    \n",
    "    for _ in range(max_iter):\n",
    "        _centroids = np.copy(centroids)\n",
    "        #update labels\n",
    "        labels = init_labels(img_1d, k_clusters, init_centroids)\n",
    "        #re-calc centroid\n",
    "        for i in range(k_clusters):\n",
    "            if img_1d[labels == i].size > 0:\n",
    "                centroids[i] = np.mean(img_1d[labels == i], axis = 0)\n",
    " \n",
    "        if np.array_equal(_centroids, centroids):\n",
    "            break\n",
    "        \n",
    "    return centroids.astype('uint8'), labels\n",
    "\n",
    "    "
   ]
  },
  {
   "cell_type": "code",
   "execution_count": null,
   "metadata": {},
   "outputs": [],
   "source": [
    "def convert_2d(size, centroids, labels):\n",
    "    __img_1d = np.ndarray((np.array(labels).shape[0], np.array(centroids).shape[1]), 'uint8', np.array([centroids[i] for i in labels]))\n",
    "    \n",
    "    return np.reshape(__img_1d, (size[0], size[1], centroids.shape[1]))"
   ]
  },
  {
   "cell_type": "code",
   "execution_count": null,
   "metadata": {},
   "outputs": [],
   "source": [
    "def print_img(imgs, row, col):\n",
    "    for i in range(len(imgs)):\n",
    "        plt.subplot(row, col, i+1)\n",
    "        plt.imshow(imgs[i])\n",
    "    plt.show()"
   ]
  },
  {
   "cell_type": "code",
   "execution_count": null,
   "metadata": {},
   "outputs": [],
   "source": [
    "def main():\n",
    "    img_name = input('Enter name of image')\n",
    "    k_clusters = int(input('Enter the number of clusters'))\n",
    "    max_iter = int(input('Enter the max iteration'))\n",
    "    init_centroids = input('Initialize centroids')\n",
    "    file_type = input('Enter type of saved type:')\n",
    "\n",
    "    save_name = 'new_img.' + file_type\n",
    "    img = Image.open(img_name)\n",
    "        \n",
    "    if img.mode == 'RGBA':\n",
    "        img = img.convert('RGB')\n",
    "    \n",
    "    size = init_image(img)\n",
    "    img_1d = convert_1d(img, size)\n",
    "    \n",
    "    centroids, labels = kmeans(img_1d, k_clusters, max_iter, init_centroids)\n",
    "    res = convert_2d(size, centroids, labels)\n",
    "\n",
    "    imgs = [img, res]\n",
    "    print_img(imgs, 1, 2)\n",
    "    \n",
    "    Image.fromarray(res).save(save_name)"
   ]
  },
  {
   "cell_type": "code",
   "execution_count": null,
   "metadata": {},
   "outputs": [],
   "source": [
    "main()"
   ]
  }
 ],
 "metadata": {
  "kernelspec": {
   "display_name": "base",
   "language": "python",
   "name": "python3"
  },
  "language_info": {
   "codemirror_mode": {
    "name": "ipython",
    "version": 3
   },
   "file_extension": ".py",
   "mimetype": "text/x-python",
   "name": "python",
   "nbconvert_exporter": "python",
   "pygments_lexer": "ipython3",
   "version": "3.10.9"
  },
  "orig_nbformat": 4
 },
 "nbformat": 4,
 "nbformat_minor": 2
}
